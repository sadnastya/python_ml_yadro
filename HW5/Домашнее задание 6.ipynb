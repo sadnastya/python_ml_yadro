{
 "cells": [
  {
   "cell_type": "markdown",
   "id": "4feb6bdc",
   "metadata": {},
   "source": [
    "# Итераторы"
   ]
  },
  {
   "cell_type": "markdown",
   "id": "4b6631bd",
   "metadata": {},
   "source": [
    "## Порядок сдачи домашнего"
   ]
  },
  {
   "cell_type": "markdown",
   "id": "bee4fcc0",
   "metadata": {},
   "source": [
    "Под каждое домашнее вы создаете отдельную ветку куда вносите все изменения в рамках домашнего. Как только домашнее готово - создаете пулл реквест (обратите внимание что в пулл реквесте должны быть отражены все изменения в рамках домашнего). Ревьювера назначаете из таблицы - https://docs.google.com/spreadsheets/d/1vK6IgEqaqXniUJAQOOspiL_tx3EYTSXW1cUrMHAZFr8/edit?gid=0#gid=0\n",
    "Перед сдачей проверьте код, напишите тесты. Не забудьте про PEP8, например, с помощью flake8. Задание нужно делать в jupyter notebook.\n",
    "\n",
    "**Дедлайн - 11 ноября 10:00**"
   ]
  },
  {
   "cell_type": "markdown",
   "id": "d777f71d",
   "metadata": {
    "ExecuteTime": {
     "end_time": "2024-11-03T13:46:28.412754Z",
     "start_time": "2024-11-03T13:46:28.400723Z"
    }
   },
   "source": [
    "## Итератор по цифрам"
   ]
  },
  {
   "cell_type": "markdown",
   "id": "0e691ab8",
   "metadata": {},
   "source": [
    "Реализуйте класс-итератор `DigitIterator`, который принимает на вход целое число и позволяет итерироваться по его цифрам слева направо. На каждой итерации должна возвращаться следующая цифра числа.\n",
    "\n",
    "**Условия:**\n",
    "1.\tЧисло может быть как положительным, так и отрицательным.\n",
    "2.\tИтератор должен возвращать только цифры числа, без знака - для отрицательных чисел.\n",
    "3.\tИтерация должна быть возможна с помощью цикла for или функции next().\n",
    "\n",
    "**Пример использования:**\n",
    "\n",
    "```python\n",
    "iterator = DigitIterator(12345)\n",
    "for digit in iterator:\n",
    "    print(digit)\n",
    "# 1\n",
    "# 2\n",
    "# 3\n",
    "# 4\n",
    "# 5\n",
    "\n",
    "iterator = DigitIterator(-6789)\n",
    "for digit in iterator:\n",
    "    print(digit)\n",
    "\n",
    "# 6\n",
    "# 7\n",
    "# 8\n",
    "# 9\n",
    "```"
   ]
  },
  {
   "cell_type": "code",
   "execution_count": 94,
   "id": "8456ac6e",
   "metadata": {},
   "outputs": [
    {
     "name": "stdout",
     "output_type": "stream",
     "text": [
      "1\n",
      "2\n",
      "3\n",
      "4\n",
      "5\n"
     ]
    }
   ],
   "source": [
    "class DigitIterator:\n",
    "    def __init__(self, number):\n",
    "        self.num_str = str(abs(number))\n",
    "        self.current_value=0\n",
    "    \n",
    "    def __next__(self):\n",
    "        if len(self.num_str)==0:\n",
    "            raise StopIteration\n",
    "        else:\n",
    "            self.current_value=int(self.num_str[0])\n",
    "            self.num_str=self.num_str[1:]\n",
    "            return self.current_value\n",
    "    \n",
    "    def __iter__(self):\n",
    "        return self\n",
    "\n",
    "# Пример использования\n",
    "iterator = DigitIterator(12345)\n",
    "for digit in iterator:\n",
    "    print(digit)"
   ]
  },
  {
   "cell_type": "code",
   "execution_count": 95,
   "id": "85092b47",
   "metadata": {},
   "outputs": [
    {
     "name": "stdout",
     "output_type": "stream",
     "text": [
      "6\n",
      "7\n",
      "8\n",
      "9\n"
     ]
    }
   ],
   "source": [
    "iterator = DigitIterator(-6789)\n",
    "for digit in iterator:\n",
    "    print(digit)"
   ]
  },
  {
   "cell_type": "markdown",
   "id": "524f2c81",
   "metadata": {},
   "source": [
    "# Итератор по файлу чанками"
   ]
  },
  {
   "cell_type": "markdown",
   "id": "b8beef88",
   "metadata": {},
   "source": [
    "Реализуйте класс-итератор `FileChunkIterator`, который принимает на вход путь к файлу и количество байт для чтения. Итератор должен открывать файл и считывать его содержимое блоками фиксированного размера (количества байт), переданного в качестве параметра. При каждой итерации возвращается следующий блок байт, пока не будет достигнут конец файла.\n",
    "\n",
    "**Условия:**\n",
    "1.\tИтератор должен открывать файл в режиме чтения бинарных данных (rb).\n",
    "2.\tРазмер блока (количество байт) передаётся при создании итератора.\n",
    "3.\tЕсли в конце файла остаётся блок меньшего размера, итератор должен вернуть оставшиеся байты.\n",
    "4.\tПри достижении конца файла итератор должен завершить работу, поднимая StopIteration.\n",
    "\n",
    "**Пример использования:**\n",
    "```python\n",
    "with open(\"example.txt\", \"w\") as file:\n",
    "    file.write(\"Hello world!!\")\n",
    "    \n",
    "iterator = FileChunkIterator(\"example.txt\", 2)\n",
    "for chunk in iterator:\n",
    "    print(chunk)\n",
    "# He\n",
    "# ll\n",
    "# o \n",
    "# wo\n",
    "# rl\n",
    "# d!\n",
    "# !\n",
    "```"
   ]
  },
  {
   "cell_type": "code",
   "execution_count": 96,
   "id": "60907399",
   "metadata": {},
   "outputs": [],
   "source": [
    "class FileChunkIterator:\n",
    "    def __init__(self, path, chunk_size):\n",
    "        self.path = path\n",
    "        self.chunk_size = chunk_size\n",
    "        self.current_chunk = 0\n",
    "        \n",
    "    def __next__(self):\n",
    "        with open(self.path, \"rb\") as file:\n",
    "            file.read(self.current_chunk)\n",
    "            chunk = file.read(self.chunk_size)\n",
    "            self.current_chunk += self.chunk_size\n",
    "            if not chunk:\n",
    "                raise StopIteration\n",
    "            return chunk.decode(\"utf-8\")\n",
    "        \n",
    "    def __iter__(self):\n",
    "        return self\n",
    "        "
   ]
  },
  {
   "cell_type": "code",
   "execution_count": 97,
   "id": "536a3dbc",
   "metadata": {
    "ExecuteTime": {
     "end_time": "2024-11-03T15:39:29.153309Z",
     "start_time": "2024-11-03T15:39:29.131086Z"
    }
   },
   "outputs": [
    {
     "name": "stdout",
     "output_type": "stream",
     "text": [
      "He\n",
      "ll\n",
      "o \n",
      "wo\n",
      "rl\n",
      "d!\n",
      "!\n"
     ]
    }
   ],
   "source": [
    "with open(\"task2.txt\", \"w\") as file:\n",
    "    file.write(\"Hello world!!\")\n",
    "\n",
    "iterator = FileChunkIterator(\"task2.txt\", 2)\n",
    "for chunk in iterator:\n",
    "    print(chunk)"
   ]
  },
  {
   "cell_type": "markdown",
   "id": "0985c955",
   "metadata": {},
   "source": [
    "# Итератор по подматрицам"
   ]
  },
  {
   "cell_type": "markdown",
   "id": "6dacea80",
   "metadata": {},
   "source": [
    "Реализуйте класс-итератор `SubmatrixIterator`, который принимает на вход матрицу и размер подматрицы (квадратного блока). Итератор должен проходить по всем возможным подматрицам указанного размера и возвращать их одну за другой.\n",
    "\n",
    "**Пример использования:**\n",
    "\n",
    "```python\n",
    "matrix = [\n",
    "    [1, 2, 3, 4],\n",
    "    [5, 6, 7, 8],\n",
    "    [9, 10, 11, 12],\n",
    "    [13, 14, 15, 16]\n",
    "]\n",
    "iterator = SubmatrixIterator(matrix, 2)\n",
    "for submatrix in iterator:\n",
    "    print(submatrix)\n",
    "    \n",
    "# [[1, 2], [5, 6]]\n",
    "# [[2, 3], [6, 7]]\n",
    "# [[3, 4], [7, 8]]\n",
    "# [[5, 6], [9, 10]]\n",
    "# [[6, 7], [10, 11]]\n",
    "# [[7, 8], [11, 12]]\n",
    "# [[9, 10], [13, 14]]\n",
    "# [[10, 11], [14, 15]]\n",
    "# [[11, 12], [15, 16]]\n",
    "```"
   ]
  },
  {
   "cell_type": "code",
   "execution_count": 98,
   "id": "72631b5b",
   "metadata": {},
   "outputs": [],
   "source": [
    "class SubmatrixIterator:\n",
    "    def __init__(self, matrix, size_submatrix):\n",
    "        self.matrix = matrix\n",
    "        self.size_submatrix = size_submatrix\n",
    "\n",
    "        self.current_index=[0, 0]\n",
    "    \n",
    "    def __next__(self):\n",
    "        if self.current_index[0]+self.size_submatrix > len(self.matrix):\n",
    "            raise StopIteration\n",
    "        \n",
    "        submatrix=[[] for i in range(self.size_submatrix)]\n",
    "        for i in range(self.current_index[0], self.current_index[0]+self.size_submatrix):\n",
    "            for j in range(self.current_index[1], self.current_index[1]+self.size_submatrix):\n",
    "                submatrix[i-self.current_index[0]].append(self.matrix[i][j])\n",
    "        \n",
    "        if self.current_index[1]+self.size_submatrix > len(self.matrix[0])-1:\n",
    "            self.current_index[0]+=1\n",
    "            self.current_index[1]=0\n",
    "        else:\n",
    "            self.current_index[1]+=1\n",
    "\n",
    "        return submatrix\n",
    "\n",
    "    def __iter__(self):\n",
    "        return self"
   ]
  },
  {
   "cell_type": "code",
   "execution_count": 101,
   "id": "fe9a2f85",
   "metadata": {},
   "outputs": [
    {
     "name": "stdout",
     "output_type": "stream",
     "text": [
      "[[1, 2], [5, 6]]\n",
      "[[2, 3], [6, 7]]\n",
      "[[3, 4], [7, 8]]\n",
      "[[5, 6], [9, 10]]\n",
      "[[6, 7], [10, 11]]\n",
      "[[7, 8], [11, 12]]\n",
      "[[9, 10], [13, 14]]\n",
      "[[10, 11], [14, 15]]\n",
      "[[11, 12], [15, 16]]\n"
     ]
    }
   ],
   "source": [
    "matrix = [\n",
    "    [1, 2, 3, 4],\n",
    "    [5, 6, 7, 8],\n",
    "    [9, 10, 11, 12],\n",
    "    [13, 14, 15, 16]\n",
    "]\n",
    "\n",
    "\n",
    "iterator = SubmatrixIterator(matrix, 2)\n",
    "for submatrix in iterator:\n",
    "    print(submatrix)"
   ]
  },
  {
   "cell_type": "markdown",
   "id": "f1ad35a0",
   "metadata": {
    "ExecuteTime": {
     "end_time": "2024-11-03T14:20:40.010708Z",
     "start_time": "2024-11-03T14:20:39.997523Z"
    }
   },
   "source": [
    "# Построчного чтение всех файлов в директории"
   ]
  },
  {
   "cell_type": "markdown",
   "id": "ca37eddc",
   "metadata": {},
   "source": [
    "Реализуйте класс-итератор  `RecursiveFileLineIteratorNoHidden`, который принимает на вход путь к директории и рекурсивно проходит по всем файлам, включая файлы во вложенных директориях. Итератор должен возвращать строки из каждого файла построчно, игнорируя файлы и директории, названия которых начинаются с точки (.), т.е. скрытые файлы и папки.\n",
    "\n",
    "**Условия:**\n",
    "1.\tИтератор должен проходить по всем файлам в указанной директории и всех её поддиректориях, кроме тех, что начинаются с точки (.).\n",
    "2.\tИтератор должен возвращать строки из каждого файла поочерёдно, построчно.\n",
    "3.\tПоддерживаются только текстовые файлы.\n",
    "4.\tПосле завершения чтения всех файлов итератор должен завершить работу, поднимая StopIteration.\n",
    "5.\tОбработайте ситуацию, если файл не может быть открыт (например, из-за ошибок доступа).\n",
    "\n",
    "**Пример использования:**\n",
    "\n",
    "```python\n",
    "iterator = RecursiveFileLineIteratorNoHidden(\"./test\")\n",
    "for line in iterator:\n",
    "    print(line)\n",
    "    \n",
    "# Example 1\n",
    "# Example 2\n",
    "# Example 3\n",
    "# Example 4\n",
    "# Subfolder Example 1\n",
    "# Subfolder Example 2\n",
    "# Subfolder Example 3\n",
    "# Subfolder Example 4    \n",
    "```\n",
    "\n",
    "Для выполнения задания потребуются несколько методов из модуля os, которые позволяют работать с файловой системой в Python. Давайте подробно рассмотрим их.\n",
    "\n",
    "\n",
    "`os.walk(top, topdown=True, onerror=None, followlinks=False)` — это генератор, который рекурсивно обходит директории и поддиректории, начиная с указанного пути top. На каждом шаге возвращается кортеж, содержащий текущую директорию, список поддиректорий и список файлов.\n",
    "\n",
    "Возвращаемые значения:\n",
    "* root: Текущая директория, в которой находимся в данный момент обхода.\n",
    "* dirs: Список поддиректорий в текущей root директории.\n",
    "* files: Список файлов в текущей root директории.\n",
    "\n",
    "`os.path.join(path, *paths)` объединяет один или несколько компонентов пути, возвращая корректный путь, соответствующий операционной системе. Это полезно для построения путей к файлам и директориям в кросс-платформенном формате.\n",
    "\n",
    "```python\n",
    "root = \"/path/to/directory\"\n",
    "file_name = \"example.txt\"\n",
    "full_path = os.path.join(root, file_name)\n",
    "print(full_path)  # Вывод: \"/path/to/directory/example.txt\"\n",
    "```\n",
    "\n",
    "`os.path.isfile(path)` проверяет, является ли указанный путь файлом. Возвращает True, если path указывает на файл, и False, если это директория или объект другого типа.\n",
    "\n",
    "```python\n",
    "file_path = \"/path/to/file.txt\"\n",
    "if os.path.isfile(file_path):\n",
    "    print(\"Это файл.\")\n",
    "else:\n",
    "    print(\"Это не файл.\")\n",
    "```\n",
    "\n",
    "`os.path.basename(path)` возвращает базовое имя файла или директории из пути. Это полезно, если нужно получить только имя файла или папки, без остальных компонентов пути.\n",
    "\n",
    "```python\n",
    "file_path = \"/path/to/file.txt\"\n",
    "print(os.path.basename(file_path))  # Вывод: \"file.txt\"\n",
    "```\n",
    "\n",
    "`os.path.isdir(path)` проверяет, является ли указанный путь директорией. Возвращает True, если path указывает на директорию, и False, если это файл или объект другого типа.\n",
    "\n",
    "```python\n",
    "dir_path = \"/path/to/directory\"\n",
    "if os.path.isdir(dir_path):\n",
    "    print(\"Это директория.\")\n",
    "else:\n",
    "    print(\"Это не директория.\")\n",
    "```"
   ]
  },
  {
   "cell_type": "code",
   "execution_count": 102,
   "id": "cccfe52c",
   "metadata": {
    "ExecuteTime": {
     "end_time": "2024-11-03T14:45:18.219426Z",
     "start_time": "2024-11-03T14:45:18.206870Z"
    }
   },
   "outputs": [],
   "source": [
    "import os\n",
    "\n",
    "class RecursiveFileLineIteratorNoHidden:\n",
    "    def __init__(self, root_dir):\n",
    "        self.root_dir = root_dir\n",
    "        self.files = self.collect_files(root_dir)\n",
    "        self.current_file = None\n",
    "        self.current_file_iterator = None\n",
    "\n",
    "    def collect_files(self, directory):\n",
    "        for root, dirs, files in os.walk(directory):\n",
    "            dirs[:] = [d for d in dirs if not d.startswith('.')]\n",
    "            for file in files:\n",
    "                if not file.startswith('.'):\n",
    "                    yield os.path.join(root, file)\n",
    "\n",
    "\n",
    "    def __next__(self):\n",
    "        while True:\n",
    "            if self.current_file_iterator is None:\n",
    "                try:\n",
    "                    self.current_file = next(self.files)\n",
    "                except StopIteration:\n",
    "                    raise StopIteration\n",
    "\n",
    "                try:\n",
    "                    self.current_file_iterator = iter(open(self.current_file, 'r'))\n",
    "                except IOError as e:\n",
    "                    print(f\"Error opening file {self.current_file}: {e}\")\n",
    "            try:\n",
    "                return next(self.current_file_iterator).strip()\n",
    "            except StopIteration:\n",
    "                self.current_file_iterator = None\n",
    "    \n",
    "    def __iter__(self):\n",
    "        return self"
   ]
  },
  {
   "cell_type": "code",
   "execution_count": 103,
   "id": "285089bb",
   "metadata": {},
   "outputs": [
    {
     "name": "stdout",
     "output_type": "stream",
     "text": [
      "Example 1\n",
      "Example 2\n",
      "Example 3\n",
      "Example 4\n",
      "Subfolder Example 1\n",
      "Subfolder Example 2\n",
      "Subfolder Example 3\n",
      "Subfolder Example 4\n"
     ]
    }
   ],
   "source": [
    "iterator = RecursiveFileLineIteratorNoHidden(\"./test\")\n",
    "for line in iterator:\n",
    "    print(line)"
   ]
  }
 ],
 "metadata": {
  "kernelspec": {
   "display_name": "py_ml_yadro",
   "language": "python",
   "name": "python3"
  },
  "language_info": {
   "codemirror_mode": {
    "name": "ipython",
    "version": 3
   },
   "file_extension": ".py",
   "mimetype": "text/x-python",
   "name": "python",
   "nbconvert_exporter": "python",
   "pygments_lexer": "ipython3",
   "version": "3.12.3"
  }
 },
 "nbformat": 4,
 "nbformat_minor": 5
}
